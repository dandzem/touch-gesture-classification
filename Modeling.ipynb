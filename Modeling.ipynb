{
 "cells": [
  {
   "cell_type": "code",
   "execution_count": 1,
   "metadata": {
    "pycharm": {
     "name": "#%%\n"
    }
   },
   "outputs": [],
   "source": [
    "import pandas as pd\n",
    "import numpy as np\n",
    "from tqdm.notebook import tqdm\n",
    "import warnings\n",
    "warnings.filterwarnings(\"ignore\")\n",
    "df_raw = pd.read_csv(\"CoST.csv\")\n",
    "# df = pd.read_csv(\"https://data.4tu.nl/articles/dataset/Corpus_of_Social_Touch_CoST_/12696869?file=24044075\", sep='\\t')\n"
   ]
  },
  {
   "cell_type": "markdown",
   "metadata": {
    "pycharm": {
     "name": "#%% md\n"
    }
   },
   "source": [
    "# Preprocessing\n",
    "\n",
    "frame = 135 - 1 second"
   ]
  },
  {
   "cell_type": "code",
   "execution_count": 2,
   "metadata": {
    "collapsed": false,
    "jupyter": {
     "outputs_hidden": false
    },
    "pycharm": {
     "name": "#%%\n"
    }
   },
   "outputs": [
    {
     "data": {
      "text/plain": [
       "5       7805\n",
       "1       7805\n",
       "7       7805\n",
       "2       7805\n",
       "8       7805\n",
       "        ... \n",
       "1658       1\n",
       "1659       1\n",
       "1580       1\n",
       "1660       1\n",
       "1535       1\n",
       "Name: frame, Length: 1747, dtype: int64"
      ]
     },
     "execution_count": 2,
     "metadata": {},
     "output_type": "execute_result"
    }
   ],
   "source": [
    "df = df_raw.copy()\n",
    "df.columns = df.columns.str.strip(\" \")\n",
    "df = df.set_index(['subject', 'variant', 'gesture'])\n",
    "df['frame'].value_counts()"
   ]
  },
  {
   "cell_type": "code",
   "execution_count": 3,
   "metadata": {
    "collapsed": false,
    "jupyter": {
     "outputs_hidden": false
    },
    "pycharm": {
     "name": "#%%\n"
    }
   },
   "outputs": [
    {
     "data": {
      "application/vnd.jupyter.widget-view+json": {
       "model_id": "4039dd91765c482e8a60f4b3901060fc",
       "version_major": 2,
       "version_minor": 0
      },
      "text/plain": [
       "HBox(children=(FloatProgress(value=1.0, bar_style='info', max=1.0), HTML(value='')))"
      ]
     },
     "metadata": {},
     "output_type": "display_data"
    },
    {
     "name": "stdout",
     "output_type": "stream",
     "text": [
      "\n"
     ]
    },
    {
     "ename": "IndexError",
     "evalue": "index 1496855 is out of bounds for axis 0 with size 1496855",
     "output_type": "error",
     "traceback": [
      "\u001b[0;31m---------------------------------------------------------------------------\u001b[0m",
      "\u001b[0;31mIndexError\u001b[0m                                Traceback (most recent call last)",
      "\u001b[0;32m<ipython-input-3-881a91ab894d>\u001b[0m in \u001b[0;36m<module>\u001b[0;34m\u001b[0m\n\u001b[1;32m      4\u001b[0m \u001b[0mi\u001b[0m \u001b[0;34m=\u001b[0m \u001b[0;36m1\u001b[0m\u001b[0;34m\u001b[0m\u001b[0;34m\u001b[0m\u001b[0m\n\u001b[1;32m      5\u001b[0m \u001b[0;32mfor\u001b[0m \u001b[0mindex\u001b[0m\u001b[0;34m,\u001b[0m \u001b[0melement\u001b[0m \u001b[0;32min\u001b[0m \u001b[0mtqdm\u001b[0m\u001b[0;34m(\u001b[0m\u001b[0menumerate\u001b[0m\u001b[0;34m(\u001b[0m\u001b[0mvalues\u001b[0m\u001b[0;34m)\u001b[0m\u001b[0;34m)\u001b[0m\u001b[0;34m:\u001b[0m\u001b[0;34m\u001b[0m\u001b[0;34m\u001b[0m\u001b[0m\n\u001b[0;32m----> 6\u001b[0;31m     \u001b[0;32mif\u001b[0m \u001b[0mvalues\u001b[0m\u001b[0;34m[\u001b[0m\u001b[0mindex\u001b[0m \u001b[0;34m+\u001b[0m \u001b[0;36m1\u001b[0m\u001b[0;34m]\u001b[0m \u001b[0;34m<\u001b[0m \u001b[0mvalues\u001b[0m\u001b[0;34m[\u001b[0m\u001b[0mindex\u001b[0m\u001b[0;34m]\u001b[0m\u001b[0;34m:\u001b[0m\u001b[0;34m\u001b[0m\u001b[0;34m\u001b[0m\u001b[0m\n\u001b[0m\u001b[1;32m      7\u001b[0m         \u001b[0mdf\u001b[0m\u001b[0;34m.\u001b[0m\u001b[0mloc\u001b[0m\u001b[0;34m[\u001b[0m\u001b[0mindex\u001b[0m\u001b[0;34m,\u001b[0m \u001b[0;34m\"observation\"\u001b[0m\u001b[0;34m]\u001b[0m \u001b[0;34m=\u001b[0m \u001b[0mi\u001b[0m\u001b[0;34m\u001b[0m\u001b[0;34m\u001b[0m\u001b[0m\n\u001b[1;32m      8\u001b[0m         \u001b[0mi\u001b[0m \u001b[0;34m+=\u001b[0m \u001b[0;36m1\u001b[0m\u001b[0;34m\u001b[0m\u001b[0;34m\u001b[0m\u001b[0m\n",
      "\u001b[0;31mIndexError\u001b[0m: index 1496855 is out of bounds for axis 0 with size 1496855"
     ]
    }
   ],
   "source": [
    "df['observation'] = np.nan\n",
    "df = df.reset_index()\n",
    "values = df['frame'].values\n",
    "i = 1\n",
    "for index, element in tqdm(enumerate(values)):\n",
    "    if values[index + 1] < values[index]:\n",
    "        df.loc[index, \"observation\"] = i\n",
    "        i += 1"
   ]
  },
  {
   "cell_type": "code",
   "execution_count": 5,
   "metadata": {
    "collapsed": false,
    "jupyter": {
     "outputs_hidden": false
    },
    "pycharm": {
     "name": "#%%\n"
    }
   },
   "outputs": [],
   "source": [
    "df['observation'] = df['observation'].fillna(method='bfill')\n",
    "df['observation'] = df['observation'].fillna(df['observation'].max() + 1)\n",
    "df['observation'] = df['observation'].astype(int)"
   ]
  },
  {
   "cell_type": "code",
   "execution_count": 6,
   "metadata": {
    "collapsed": false,
    "jupyter": {
     "outputs_hidden": false
    },
    "pycharm": {
     "name": "#%%\n"
    }
   },
   "outputs": [],
   "source": [
    "# Create ML dataset\n",
    "\n",
    "data = pd.DataFrame(index=np.arange(1, df['observation'].max() + 1).astype(int), columns=['duration'])\n",
    "\n",
    "# Add gesture (y)\n",
    "data['gesture'] = pd.Series(df.drop_duplicates(['observation'], keep='last')['gesture'].values)\n",
    "\n",
    "dict_gesture = {1: \"grab\", 2: \"hit\", 3: \"massage\", 4: \"pat\", 5: \"pinch\",\n",
    "                6: \"poke\", 7: \"press\", 8: \"rub\", 9: \"scratch\", 10: \"slap\", 11: \"squeeze\",\n",
    "                12: \"stroke\", 13: \"tap\", 14: \"tickle\"}\n",
    "\n",
    "data['gesture'] = data['gesture'].map(dict_gesture)\n",
    "\n",
    "data['variant'] = pd.Series(df.drop_duplicates(['observation'], keep='last')['variant'].values)\n",
    "dict_variant = {1: \"gentle\", 2: \"normal\", 3: \"rough\"}\n",
    "data['variant'] = data['variant'].map(dict_variant)\n",
    "\n",
    "\n",
    "# Add duration for every observation\n",
    "data['duration'] = (df.drop_duplicates(['observation'], keep='last')['frame'] / 135).values"
   ]
  },
  {
   "cell_type": "markdown",
   "metadata": {
    "pycharm": {
     "name": "#%% md\n"
    }
   },
   "source": [
    "Some unique combination of subject, variant, gesture have 5 repetitions. 7805 gesture captures"
   ]
  },
  {
   "cell_type": "markdown",
   "metadata": {
    "pycharm": {
     "name": "#%% md\n"
    }
   },
   "source": [
    "# Feature engineering\n",
    "\n",
    "– Mean pressure is the mean over channels and time (1).\n",
    "\n",
    "– Maximum pressure is the maximum value over channels\n",
    "and time (2).\n",
    "\n",
    "– Pressure variability is the mean over time of the sum over\n",
    "channels of the absolute value of difference between two\n",
    "consecutive frames (3).\n",
    "\n",
    "– Mean pressure per row is the mean over columns and time\n",
    "resulting in one feature per row which are in the direction\n",
    "of the mannequin arm’s length (from top to bottom, 4–\n",
    "11).\n",
    "\n",
    "– Mean pressure per column is the mean over rows and\n",
    "time resulting in one feature per column which are in\n",
    "the direction of the mannequin arm’s width (from left to\n",
    "right, 12–19).\n",
    "\n",
    "– Contact area per frame is the fraction of channels with a\n",
    "value above 50 % of the maximum value. Mean contact\n",
    "area is the mean over time of contact area (20) and the\n",
    "maximum pressure contact area is the contact area of the\n",
    "frame with the highest mean pressure over channels (21).\n",
    "The size of the contact area indicated whether the whole\n",
    "hand was used for a touch gesture, as would be expected"
   ]
  },
  {
   "cell_type": "code",
   "execution_count": 7,
   "metadata": {
    "collapsed": false,
    "jupyter": {
     "outputs_hidden": false
    },
    "pycharm": {
     "name": "#%%\n"
    }
   },
   "outputs": [
    {
     "name": "stdout",
     "output_type": "stream",
     "text": [
      "['ch1', 'ch2', 'ch3', 'ch4', 'ch5', 'ch6', 'ch7', 'ch8', 'ch9', 'ch10']\n"
     ]
    }
   ],
   "source": [
    "# Mean pressure\n",
    "ch_cols = [i for i in df.columns if i.startswith(\"ch\")]\n",
    "print(ch_cols[:10])\n",
    "data['mean_pressure'] = df.groupby('observation')[ch_cols].mean().mean(axis=1)"
   ]
  },
  {
   "cell_type": "code",
   "execution_count": 8,
   "metadata": {
    "collapsed": false,
    "jupyter": {
     "outputs_hidden": false
    },
    "pycharm": {
     "name": "#%%\n"
    }
   },
   "outputs": [
    {
     "data": {
      "text/plain": [
       "gesture\n",
       "grab       341.931508\n",
       "hit        127.462967\n",
       "massage    207.492889\n",
       "pat        128.959427\n",
       "pinch      148.889580\n",
       "poke       118.970094\n",
       "press      201.823134\n",
       "rub        164.400707\n",
       "scratch    138.925870\n",
       "slap       120.755853\n",
       "squeeze    285.747048\n",
       "stroke     149.573673\n",
       "tap        117.651540\n",
       "tickle     127.242386\n",
       "Name: mean_pressure, dtype: float64"
      ]
     },
     "execution_count": 8,
     "metadata": {},
     "output_type": "execute_result"
    }
   ],
   "source": [
    "data.groupby(['gesture'])['mean_pressure'].mean()"
   ]
  },
  {
   "cell_type": "code",
   "execution_count": 9,
   "metadata": {
    "collapsed": false,
    "jupyter": {
     "outputs_hidden": false
    },
    "pycharm": {
     "name": "#%%\n"
    }
   },
   "outputs": [],
   "source": [
    "# Maximum pressure\n",
    "data['maximum_pressure'] = df.groupby('observation')[ch_cols].max().max(axis=1)"
   ]
  },
  {
   "cell_type": "code",
   "execution_count": 10,
   "metadata": {
    "collapsed": false,
    "jupyter": {
     "outputs_hidden": false
    },
    "pycharm": {
     "name": "#%%\n"
    }
   },
   "outputs": [
    {
     "data": {
      "text/plain": [
       "gesture\n",
       "grab       1708.850987\n",
       "hit        1689.304659\n",
       "massage    1693.558348\n",
       "pat        1513.917415\n",
       "pinch      1691.086022\n",
       "poke       1534.254480\n",
       "press      1703.835125\n",
       "rub        1595.583483\n",
       "scratch    1539.315412\n",
       "slap       1579.863799\n",
       "squeeze    1756.057451\n",
       "stroke     1539.482014\n",
       "tap        1491.870968\n",
       "tickle     1444.904847\n",
       "Name: maximum_pressure, dtype: float64"
      ]
     },
     "execution_count": 10,
     "metadata": {},
     "output_type": "execute_result"
    }
   ],
   "source": [
    "data.groupby(['gesture'])['maximum_pressure'].mean() * 2"
   ]
  },
  {
   "cell_type": "code",
   "execution_count": 11,
   "metadata": {
    "collapsed": false,
    "jupyter": {
     "outputs_hidden": false
    },
    "pycharm": {
     "name": "#%%\n"
    }
   },
   "outputs": [],
   "source": [
    "# Variance over channels and time (44)\n",
    "data['variance'] = df.groupby('observation')[ch_cols].var().var(axis=1)"
   ]
  },
  {
   "cell_type": "code",
   "execution_count": 12,
   "metadata": {
    "collapsed": false,
    "jupyter": {
     "outputs_hidden": false
    },
    "pycharm": {
     "name": "#%%\n"
    }
   },
   "outputs": [],
   "source": [
    "# Contact area per frame\n",
    "# Attention! It's really time and memory expensive\n",
    "df['contact_area'] = df[ch_cols].apply(lambda x: np.mean(x > x.max() * 0.5), axis=1)\n",
    "data['mean_contact_area'] = df.groupby('observation')['contact_area'].mean()"
   ]
  },
  {
   "cell_type": "code",
   "execution_count": 13,
   "metadata": {
    "collapsed": false,
    "jupyter": {
     "outputs_hidden": false
    },
    "pycharm": {
     "name": "#%%\n"
    }
   },
   "outputs": [
    {
     "data": {
      "text/html": [
       "<div>\n",
       "<style scoped>\n",
       "    .dataframe tbody tr th:only-of-type {\n",
       "        vertical-align: middle;\n",
       "    }\n",
       "\n",
       "    .dataframe tbody tr th {\n",
       "        vertical-align: top;\n",
       "    }\n",
       "\n",
       "    .dataframe thead th {\n",
       "        text-align: right;\n",
       "    }\n",
       "</style>\n",
       "<table border=\"1\" class=\"dataframe\">\n",
       "  <thead>\n",
       "    <tr style=\"text-align: right;\">\n",
       "      <th></th>\n",
       "      <th>duration</th>\n",
       "      <th>gesture</th>\n",
       "      <th>variant</th>\n",
       "      <th>mean_pressure</th>\n",
       "      <th>maximum_pressure</th>\n",
       "      <th>variance</th>\n",
       "      <th>mean_contact_area</th>\n",
       "    </tr>\n",
       "  </thead>\n",
       "  <tbody>\n",
       "    <tr>\n",
       "      <th>1</th>\n",
       "      <td>0.474074</td>\n",
       "      <td>grab</td>\n",
       "      <td>gentle</td>\n",
       "      <td>136.772461</td>\n",
       "      <td>439</td>\n",
       "      <td>1.346562e+07</td>\n",
       "      <td>0.309570</td>\n",
       "    </tr>\n",
       "    <tr>\n",
       "      <th>2</th>\n",
       "      <td>0.496296</td>\n",
       "      <td>grab</td>\n",
       "      <td>gentle</td>\n",
       "      <td>193.445196</td>\n",
       "      <td>594</td>\n",
       "      <td>1.043202e+08</td>\n",
       "      <td>0.410215</td>\n",
       "    </tr>\n",
       "    <tr>\n",
       "      <th>3</th>\n",
       "      <td>0.496296</td>\n",
       "      <td>grab</td>\n",
       "      <td>gentle</td>\n",
       "      <td>112.382929</td>\n",
       "      <td>515</td>\n",
       "      <td>1.193715e+07</td>\n",
       "      <td>0.233442</td>\n",
       "    </tr>\n",
       "    <tr>\n",
       "      <th>4</th>\n",
       "      <td>0.651852</td>\n",
       "      <td>grab</td>\n",
       "      <td>gentle</td>\n",
       "      <td>156.530717</td>\n",
       "      <td>657</td>\n",
       "      <td>1.455307e+08</td>\n",
       "      <td>0.208452</td>\n",
       "    </tr>\n",
       "    <tr>\n",
       "      <th>5</th>\n",
       "      <td>0.896296</td>\n",
       "      <td>grab</td>\n",
       "      <td>gentle</td>\n",
       "      <td>156.828771</td>\n",
       "      <td>786</td>\n",
       "      <td>6.985941e+08</td>\n",
       "      <td>0.309788</td>\n",
       "    </tr>\n",
       "    <tr>\n",
       "      <th>...</th>\n",
       "      <td>...</td>\n",
       "      <td>...</td>\n",
       "      <td>...</td>\n",
       "      <td>...</td>\n",
       "      <td>...</td>\n",
       "      <td>...</td>\n",
       "      <td>...</td>\n",
       "    </tr>\n",
       "    <tr>\n",
       "      <th>7801</th>\n",
       "      <td>2.896296</td>\n",
       "      <td>tickle</td>\n",
       "      <td>rough</td>\n",
       "      <td>171.512228</td>\n",
       "      <td>853</td>\n",
       "      <td>8.934892e+07</td>\n",
       "      <td>0.210358</td>\n",
       "    </tr>\n",
       "    <tr>\n",
       "      <th>7802</th>\n",
       "      <td>4.029630</td>\n",
       "      <td>tickle</td>\n",
       "      <td>rough</td>\n",
       "      <td>141.360754</td>\n",
       "      <td>864</td>\n",
       "      <td>3.718105e+07</td>\n",
       "      <td>0.226218</td>\n",
       "    </tr>\n",
       "    <tr>\n",
       "      <th>7803</th>\n",
       "      <td>3.207407</td>\n",
       "      <td>tickle</td>\n",
       "      <td>rough</td>\n",
       "      <td>162.377057</td>\n",
       "      <td>885</td>\n",
       "      <td>1.146045e+08</td>\n",
       "      <td>0.205362</td>\n",
       "    </tr>\n",
       "    <tr>\n",
       "      <th>7804</th>\n",
       "      <td>2.962963</td>\n",
       "      <td>tickle</td>\n",
       "      <td>rough</td>\n",
       "      <td>149.128516</td>\n",
       "      <td>890</td>\n",
       "      <td>1.321851e+08</td>\n",
       "      <td>0.176523</td>\n",
       "    </tr>\n",
       "    <tr>\n",
       "      <th>7805</th>\n",
       "      <td>3.074074</td>\n",
       "      <td>NaN</td>\n",
       "      <td>NaN</td>\n",
       "      <td>143.350828</td>\n",
       "      <td>905</td>\n",
       "      <td>1.480930e+08</td>\n",
       "      <td>0.177937</td>\n",
       "    </tr>\n",
       "  </tbody>\n",
       "</table>\n",
       "<p>7805 rows × 7 columns</p>\n",
       "</div>"
      ],
      "text/plain": [
       "      duration gesture variant  mean_pressure  maximum_pressure      variance  \\\n",
       "1     0.474074    grab  gentle     136.772461               439  1.346562e+07   \n",
       "2     0.496296    grab  gentle     193.445196               594  1.043202e+08   \n",
       "3     0.496296    grab  gentle     112.382929               515  1.193715e+07   \n",
       "4     0.651852    grab  gentle     156.530717               657  1.455307e+08   \n",
       "5     0.896296    grab  gentle     156.828771               786  6.985941e+08   \n",
       "...        ...     ...     ...            ...               ...           ...   \n",
       "7801  2.896296  tickle   rough     171.512228               853  8.934892e+07   \n",
       "7802  4.029630  tickle   rough     141.360754               864  3.718105e+07   \n",
       "7803  3.207407  tickle   rough     162.377057               885  1.146045e+08   \n",
       "7804  2.962963  tickle   rough     149.128516               890  1.321851e+08   \n",
       "7805  3.074074     NaN     NaN     143.350828               905  1.480930e+08   \n",
       "\n",
       "      mean_contact_area  \n",
       "1              0.309570  \n",
       "2              0.410215  \n",
       "3              0.233442  \n",
       "4              0.208452  \n",
       "5              0.309788  \n",
       "...                 ...  \n",
       "7801           0.210358  \n",
       "7802           0.226218  \n",
       "7803           0.205362  \n",
       "7804           0.176523  \n",
       "7805           0.177937  \n",
       "\n",
       "[7805 rows x 7 columns]"
      ]
     },
     "execution_count": 13,
     "metadata": {},
     "output_type": "execute_result"
    }
   ],
   "source": [
    "data.to_csv(\"final_dataset.csv\")\n",
    "data"
   ]
  },
  {
   "cell_type": "markdown",
   "metadata": {
    "pycharm": {
     "name": "#%% md\n"
    }
   },
   "source": [
    "## Splitting into training and test set. Checking accuracy and other evaluation metrics without parameters tuning and cross-validation."
   ]
  },
  {
   "cell_type": "code",
   "execution_count": 14,
   "metadata": {
    "collapsed": false,
    "jupyter": {
     "outputs_hidden": false
    },
    "pycharm": {
     "name": "#%%\n"
    }
   },
   "outputs": [],
   "source": [
    "# dict_gesture_inverse, changing gesture values to numerical so that each number corresponds to specific gesture\n",
    "dict_gesture_inverse = {value: key for key, value in dict_gesture.items()}\n",
    "data = data.dropna()\n",
    "data['gesture'] = data['gesture'].map(dict_gesture_inverse)"
   ]
  },
  {
   "cell_type": "code",
   "execution_count": 15,
   "metadata": {
    "collapsed": false,
    "jupyter": {
     "outputs_hidden": false
    },
    "pycharm": {
     "name": "#%%\n"
    }
   },
   "outputs": [],
   "source": [
    "#Splitting data into training/test sets\n",
    "from sklearn.model_selection import train_test_split\n",
    "X_train, X_test, y_train, y_test = train_test_split(data.drop(columns=['gesture', 'variant']),\n",
    "                                                    data['gesture'],\n",
    "                                                    test_size=0.3)"
   ]
  },
  {
   "cell_type": "code",
   "execution_count": 16,
   "metadata": {
    "collapsed": false,
    "jupyter": {
     "outputs_hidden": false
    },
    "pycharm": {
     "name": "#%%\n"
    }
   },
   "outputs": [],
   "source": [
    "#Importing different evaluation metrics\n",
    "from sklearn.metrics import (accuracy_score, recall_score, precision_score,\n",
    "                             roc_auc_score, f1_score)"
   ]
  },
  {
   "cell_type": "code",
   "execution_count": 17,
   "metadata": {
    "collapsed": false,
    "jupyter": {
     "outputs_hidden": false
    },
    "pycharm": {
     "name": "#%%\n"
    }
   },
   "outputs": [
    {
     "data": {
      "text/plain": [
       "Pipeline(steps=[('scal', StandardScaler()),\n",
       "                ('model', SVC(decision_function_shape='ovo'))])"
      ]
     },
     "execution_count": 17,
     "metadata": {},
     "output_type": "execute_result"
    }
   ],
   "source": [
    "from sklearn.pipeline import Pipeline\n",
    "from sklearn.preprocessing import StandardScaler\n",
    "from sklearn.svm import SVC\n",
    "from sklearn.compose import ColumnTransformer\n",
    "\n",
    "pipe_svm = Pipeline([\n",
    "    ('scal', StandardScaler()),\n",
    "    ('model', SVC(decision_function_shape='ovo'))\n",
    "])\n",
    "pipe_svm.fit(X_train, y_train)"
   ]
  },
  {
   "cell_type": "code",
   "execution_count": 18,
   "metadata": {
    "collapsed": false,
    "jupyter": {
     "outputs_hidden": false
    },
    "pycharm": {
     "name": "#%%\n"
    }
   },
   "outputs": [
    {
     "data": {
      "text/plain": [
       "Pipeline(steps=[('scal', StandardScaler()),\n",
       "                ('model', RandomForestClassifier())])"
      ]
     },
     "execution_count": 18,
     "metadata": {},
     "output_type": "execute_result"
    }
   ],
   "source": [
    "from sklearn.ensemble import RandomForestClassifier\n",
    "pipe_forest = Pipeline([\n",
    "    ('scal', StandardScaler()),\n",
    "    ('model', RandomForestClassifier())\n",
    "])\n",
    "pipe_forest.fit(X_train, y_train)"
   ]
  },
  {
   "cell_type": "code",
   "execution_count": 19,
   "metadata": {
    "collapsed": false,
    "jupyter": {
     "outputs_hidden": false
    },
    "pycharm": {
     "name": "#%%\n"
    }
   },
   "outputs": [
    {
     "data": {
      "text/plain": [
       "{'accuracy': 0.40649017933390263,\n",
       " 'precision': 0.40649017933390263,\n",
       " 'recall': 0.40649017933390263}"
      ]
     },
     "execution_count": 19,
     "metadata": {},
     "output_type": "execute_result"
    }
   ],
   "source": [
    "def metrics(y_true, model):\n",
    "    dict_metrics = {}\n",
    "    dict_metrics['accuracy'] = accuracy_score(y_true, model.predict(X_test))\n",
    "    dict_metrics['precision'] = precision_score(y_true, model.predict(X_test), average='micro')\n",
    "    dict_metrics['recall'] = recall_score(y_true, model.predict(X_test), average='micro')\n",
    "    return dict_metrics\n",
    "metrics(y_test, pipe_forest)"
   ]
  },
  {
   "cell_type": "markdown",
   "metadata": {
    "pycharm": {
     "name": "#%% md\n"
    }
   },
   "source": [
    "## Adding complex preprocessing and cross-validation. Checking performance of different classifiers using Randomized Grid Search."
   ]
  },
  {
   "cell_type": "code",
   "execution_count": 22,
   "metadata": {
    "collapsed": false,
    "jupyter": {
     "outputs_hidden": false
    },
    "pycharm": {
     "name": "#%%\n"
    }
   },
   "outputs": [
    {
     "name": "stdout",
     "output_type": "stream",
     "text": [
      "0.41545687446626817\n",
      "Best parameters are: {'clf__n_estimators': 500, 'clf__min_samples_leaf': 6, 'clf__max_features': 'sqrt', 'clf__max_depth': 10}\n"
     ]
    }
   ],
   "source": [
    "#RANDOM FOREST CLASSIFIER\n",
    "from sklearn.impute import SimpleImputer\n",
    "from sklearn.model_selection import RandomizedSearchCV\n",
    "from sklearn.model_selection import KFold\n",
    "numeric_transformer = Pipeline(steps=[\n",
    "    ('imputer', SimpleImputer(strategy='median')),\n",
    "    ('scaler', StandardScaler(with_std=False, with_mean=False))])\n",
    "\n",
    "preprocessor = ColumnTransformer(\n",
    "    transformers=[\n",
    "        ('num', numeric_transformer, X_train.columns),\n",
    "        ])\n",
    "\n",
    "pipe_forest = Pipeline([('scl', preprocessor),\n",
    "                        ('clf', RandomForestClassifier(n_jobs=-1, oob_score=False))\n",
    "                        ])  # pipeline with all steps\n",
    "param_dist_forest = {'clf__max_depth': [3, 5, 6, 10, 15],\n",
    "                     'clf__n_estimators': [100, 200, 300, 400, 500],\n",
    "                     'clf__max_features': ['sqrt', 'log2'],\n",
    "                     'clf__min_samples_leaf': np.arange(1, 30)\n",
    "                     }  # parameters for Grid\n",
    "# Cross-validation choice\n",
    "skf = KFold(5)\n",
    "forest_randomized_pipe = RandomizedSearchCV(estimator=pipe_forest,\n",
    "                                            param_distributions=param_dist_forest,\n",
    "                                            cv=skf, n_iter=30, n_jobs=-1)\n",
    "forest_randomized_pipe.fit(X_train, y_train)\n",
    "print(forest_randomized_pipe.score(X_test, y_test))\n",
    "print(f\"Best parameters are: {forest_randomized_pipe.best_params_}\")"
   ]
  },
  {
   "cell_type": "code",
   "execution_count": 23,
   "metadata": {},
   "outputs": [
    {
     "name": "stdout",
     "output_type": "stream",
     "text": [
      "0.4291204099060632\n",
      "{'model__gamma': 0.1, 'model__C': 100}\n"
     ]
    }
   ],
   "source": [
    "#SUPPORT VECTOR MACHINE\n",
    "pipe_svm = Pipeline([\n",
    "    ('scal', StandardScaler()),\n",
    "    ('model', SVC(decision_function_shape='ovo'))])\n",
    "param_svm1 = {'model__C': [0.001, 0.01, 0.1, 1, 10, 100],'model__gamma': [0.001, 0.01, 0.1, 1, 10, 100]}\n",
    "skf1 = KFold(5)\n",
    "svm_randomized_pipe = RandomizedSearchCV(estimator=pipe_svm, param_distributions=\n",
    "                                         param_svm1, cv=skf1, n_iter=30, n_jobs=-1)\n",
    "svm_randomized_pipe.fit(X_train, y_train)\n",
    "print(svm_randomized_pipe.score(X_test, y_test))\n",
    "print(svm_randomized_pipe.best_params_)\n"
   ]
  },
  {
   "cell_type": "code",
   "execution_count": 24,
   "metadata": {},
   "outputs": [
    {
     "name": "stdout",
     "output_type": "stream",
     "text": [
      "0.3599487617421008\n",
      "{'model1__C': 100}\n"
     ]
    }
   ],
   "source": [
    "#LOGISTIC REGRESSION\n",
    "from sklearn.linear_model import LogisticRegression\n",
    "pipe_log = Pipeline([\n",
    "    (\"scal1\", StandardScaler()),\n",
    "    (\"model1\", LogisticRegression(multi_class=\"ovr\"))])\n",
    "param_log = {\"model1__C\": [0.001, 0.01, 0.1, 1, 10, 100]}\n",
    "skf2 = KFold(5)\n",
    "log_randomized_pipe = RandomizedSearchCV(estimator=pipe_log, param_distributions=\n",
    "                                        param_log, cv=skf2, n_iter=30)\n",
    "log_randomized_pipe.fit(X_train, y_train)\n",
    "print(log_randomized_pipe.score(X_test, y_test))\n",
    "print(log_randomized_pipe.best_params_)"
   ]
  },
  {
   "cell_type": "code",
   "execution_count": 40,
   "metadata": {},
   "outputs": [
    {
     "name": "stdout",
     "output_type": "stream",
     "text": [
      "0.40905209222886424\n"
     ]
    }
   ],
   "source": [
    "#MULTILAYER PERCEPTRON CLASSIFIER \n",
    "from sklearn.neural_network import MLPClassifier\n",
    "pipe_mlp = Pipeline([(\"scal2\", StandardScaler()),\n",
    "                    (\"model2\", MLPClassifier(max_iter=200))])\n",
    "param_mlp = {\"model2__solver\": [\"sgd\", \"adam\"],\n",
    "              \"model2__activation\": [\"logistic\", \"relu\"],\n",
    "              \"model2__hidden_layer_sizes\": [[20,20]]}\n",
    "skf3 = KFold(5)\n",
    "mlp_randomized_pipe = RandomizedSearchCV(estimator=pipe_mlp, param_distributions=param_mlp, cv=skf3)\n",
    "mlp_randomized_pipe.fit(X_train, y_train)\n",
    "print(mlp_randomized_pipe.score(X_test, y_test))\n"
   ]
  },
  {
   "cell_type": "markdown",
   "metadata": {
    "pycharm": {
     "name": "#%% md\n"
    }
   },
   "source": [
    "## Analyze quality of predictions depending on gesture name"
   ]
  },
  {
   "cell_type": "code",
   "execution_count": 45,
   "metadata": {
    "collapsed": false,
    "jupyter": {
     "outputs_hidden": false
    },
    "pycharm": {
     "name": "#%%\n"
    }
   },
   "outputs": [
    {
     "data": {
      "text/html": [
       "<div>\n",
       "<style scoped>\n",
       "    .dataframe tbody tr th:only-of-type {\n",
       "        vertical-align: middle;\n",
       "    }\n",
       "\n",
       "    .dataframe tbody tr th {\n",
       "        vertical-align: top;\n",
       "    }\n",
       "\n",
       "    .dataframe thead th {\n",
       "        text-align: right;\n",
       "    }\n",
       "</style>\n",
       "<table border=\"1\" class=\"dataframe\">\n",
       "  <thead>\n",
       "    <tr style=\"text-align: right;\">\n",
       "      <th></th>\n",
       "      <th>correct(RandomForestClassifier)</th>\n",
       "    </tr>\n",
       "    <tr>\n",
       "      <th>gesture</th>\n",
       "      <th></th>\n",
       "    </tr>\n",
       "  </thead>\n",
       "  <tbody>\n",
       "    <tr>\n",
       "      <th>grab</th>\n",
       "      <td>0.728916</td>\n",
       "    </tr>\n",
       "    <tr>\n",
       "      <th>tickle</th>\n",
       "      <td>0.601351</td>\n",
       "    </tr>\n",
       "    <tr>\n",
       "      <th>massage</th>\n",
       "      <td>0.554878</td>\n",
       "    </tr>\n",
       "    <tr>\n",
       "      <th>hit</th>\n",
       "      <td>0.537572</td>\n",
       "    </tr>\n",
       "    <tr>\n",
       "      <th>poke</th>\n",
       "      <td>0.529412</td>\n",
       "    </tr>\n",
       "    <tr>\n",
       "      <th>slap</th>\n",
       "      <td>0.502959</td>\n",
       "    </tr>\n",
       "    <tr>\n",
       "      <th>press</th>\n",
       "      <td>0.405714</td>\n",
       "    </tr>\n",
       "    <tr>\n",
       "      <th>pat</th>\n",
       "      <td>0.354286</td>\n",
       "    </tr>\n",
       "    <tr>\n",
       "      <th>pinch</th>\n",
       "      <td>0.345946</td>\n",
       "    </tr>\n",
       "    <tr>\n",
       "      <th>stroke</th>\n",
       "      <td>0.343949</td>\n",
       "    </tr>\n",
       "    <tr>\n",
       "      <th>squeeze</th>\n",
       "      <td>0.324841</td>\n",
       "    </tr>\n",
       "    <tr>\n",
       "      <th>scratch</th>\n",
       "      <td>0.285714</td>\n",
       "    </tr>\n",
       "    <tr>\n",
       "      <th>rub</th>\n",
       "      <td>0.246988</td>\n",
       "    </tr>\n",
       "    <tr>\n",
       "      <th>tap</th>\n",
       "      <td>0.092896</td>\n",
       "    </tr>\n",
       "  </tbody>\n",
       "</table>\n",
       "</div>"
      ],
      "text/plain": [
       "         correct(RandomForestClassifier)\n",
       "gesture                                 \n",
       "grab                            0.728916\n",
       "tickle                          0.601351\n",
       "massage                         0.554878\n",
       "hit                             0.537572\n",
       "poke                            0.529412\n",
       "slap                            0.502959\n",
       "press                           0.405714\n",
       "pat                             0.354286\n",
       "pinch                           0.345946\n",
       "stroke                          0.343949\n",
       "squeeze                         0.324841\n",
       "scratch                         0.285714\n",
       "rub                             0.246988\n",
       "tap                             0.092896"
      ]
     },
     "execution_count": 45,
     "metadata": {},
     "output_type": "execute_result"
    }
   ],
   "source": [
    "data_predictions = data.loc[X_test.index]\n",
    "data_predictions['y_predict'] = forest_randomized_pipe.predict(X_test)\n",
    "data_predictions['y_true'] = y_test.values\n",
    "data_predictions['correct'] = np.where(data_predictions['y_true'] == data_predictions['y_predict'], 1, 0)\n",
    "\n",
    "gesture_correcter = data_predictions.groupby(['gesture'])['correct'].mean().sort_values(ascending=False).to_frame()\\\n",
    "#     .join(data_predictions['gesture'].value_counts(normalize=True).to_frame(\"gesture_num_obs\"))\n",
    "gesture_correcter.index = gesture_correcter.index.map(dict_gesture)\n",
    "gesture_correcter.rename(columns={\"correct\": \"correct(RandomForestClassifier)\"}, inplace=True)\n",
    "gesture_correcter\n",
    "\n"
   ]
  },
  {
   "cell_type": "code",
   "execution_count": null,
   "metadata": {},
   "outputs": [],
   "source": [
    "print(f\"Accuracy of Random Forest Classifier is: {forest_randomized_pipe.score(X_test, y_test)}\")"
   ]
  },
  {
   "cell_type": "code",
   "execution_count": 43,
   "metadata": {},
   "outputs": [
    {
     "data": {
      "text/html": [
       "<div>\n",
       "<style scoped>\n",
       "    .dataframe tbody tr th:only-of-type {\n",
       "        vertical-align: middle;\n",
       "    }\n",
       "\n",
       "    .dataframe tbody tr th {\n",
       "        vertical-align: top;\n",
       "    }\n",
       "\n",
       "    .dataframe thead th {\n",
       "        text-align: right;\n",
       "    }\n",
       "</style>\n",
       "<table border=\"1\" class=\"dataframe\">\n",
       "  <thead>\n",
       "    <tr style=\"text-align: right;\">\n",
       "      <th></th>\n",
       "      <th>correct(SVM)</th>\n",
       "    </tr>\n",
       "    <tr>\n",
       "      <th>gesture</th>\n",
       "      <th></th>\n",
       "    </tr>\n",
       "  </thead>\n",
       "  <tbody>\n",
       "    <tr>\n",
       "      <th>grab</th>\n",
       "      <td>0.734940</td>\n",
       "    </tr>\n",
       "    <tr>\n",
       "      <th>poke</th>\n",
       "      <td>0.605882</td>\n",
       "    </tr>\n",
       "    <tr>\n",
       "      <th>tickle</th>\n",
       "      <td>0.594595</td>\n",
       "    </tr>\n",
       "    <tr>\n",
       "      <th>massage</th>\n",
       "      <td>0.579268</td>\n",
       "    </tr>\n",
       "    <tr>\n",
       "      <th>slap</th>\n",
       "      <td>0.550296</td>\n",
       "    </tr>\n",
       "    <tr>\n",
       "      <th>hit</th>\n",
       "      <td>0.531792</td>\n",
       "    </tr>\n",
       "    <tr>\n",
       "      <th>pinch</th>\n",
       "      <td>0.400000</td>\n",
       "    </tr>\n",
       "    <tr>\n",
       "      <th>press</th>\n",
       "      <td>0.382857</td>\n",
       "    </tr>\n",
       "    <tr>\n",
       "      <th>stroke</th>\n",
       "      <td>0.356688</td>\n",
       "    </tr>\n",
       "    <tr>\n",
       "      <th>squeeze</th>\n",
       "      <td>0.350318</td>\n",
       "    </tr>\n",
       "    <tr>\n",
       "      <th>pat</th>\n",
       "      <td>0.342857</td>\n",
       "    </tr>\n",
       "    <tr>\n",
       "      <th>scratch</th>\n",
       "      <td>0.266234</td>\n",
       "    </tr>\n",
       "    <tr>\n",
       "      <th>rub</th>\n",
       "      <td>0.240964</td>\n",
       "    </tr>\n",
       "    <tr>\n",
       "      <th>tap</th>\n",
       "      <td>0.103825</td>\n",
       "    </tr>\n",
       "  </tbody>\n",
       "</table>\n",
       "</div>"
      ],
      "text/plain": [
       "         correct(SVM)\n",
       "gesture              \n",
       "grab         0.734940\n",
       "poke         0.605882\n",
       "tickle       0.594595\n",
       "massage      0.579268\n",
       "slap         0.550296\n",
       "hit          0.531792\n",
       "pinch        0.400000\n",
       "press        0.382857\n",
       "stroke       0.356688\n",
       "squeeze      0.350318\n",
       "pat          0.342857\n",
       "scratch      0.266234\n",
       "rub          0.240964\n",
       "tap          0.103825"
      ]
     },
     "execution_count": 43,
     "metadata": {},
     "output_type": "execute_result"
    }
   ],
   "source": [
    "data_predictions1 = data.loc[X_test.index]\n",
    "data_predictions1['y_predict'] = svm_randomized_pipe.predict(X_test)\n",
    "data_predictions1['y_true'] = y_test.values\n",
    "data_predictions1['correct'] = np.where(data_predictions1['y_true'] == data_predictions1['y_predict'], 1, 0)\n",
    "\n",
    "gesture_correcter1 = data_predictions1.groupby(['gesture'])['correct'].mean().sort_values(ascending=False).to_frame()\\\n",
    "#     .join(data_predictions['gesture'].value_counts(normalize=True).to_frame(\"gesture_num_obs\"))\n",
    "gesture_correcter1.index = gesture_correcter1.index.map(dict_gesture)\n",
    "gesture_correcter1.rename(columns={\"correct\": \"correct(SVM)\"}, inplace=True)\n",
    "gesture_correcter1"
   ]
  },
  {
   "cell_type": "code",
   "execution_count": null,
   "metadata": {},
   "outputs": [],
   "source": [
    "print(f\"Accuracy of Support Vector Machine is: {forest_randomized_pipe.score(X_test, y_test)}\")"
   ]
  },
  {
   "cell_type": "code",
   "execution_count": 37,
   "metadata": {},
   "outputs": [
    {
     "data": {
      "text/html": [
       "<div>\n",
       "<style scoped>\n",
       "    .dataframe tbody tr th:only-of-type {\n",
       "        vertical-align: middle;\n",
       "    }\n",
       "\n",
       "    .dataframe tbody tr th {\n",
       "        vertical-align: top;\n",
       "    }\n",
       "\n",
       "    .dataframe thead th {\n",
       "        text-align: right;\n",
       "    }\n",
       "</style>\n",
       "<table border=\"1\" class=\"dataframe\">\n",
       "  <thead>\n",
       "    <tr style=\"text-align: right;\">\n",
       "      <th></th>\n",
       "      <th>correct(LOGREG)</th>\n",
       "    </tr>\n",
       "    <tr>\n",
       "      <th>gesture</th>\n",
       "      <th></th>\n",
       "    </tr>\n",
       "  </thead>\n",
       "  <tbody>\n",
       "    <tr>\n",
       "      <th>grab</th>\n",
       "      <td>0.698795</td>\n",
       "    </tr>\n",
       "    <tr>\n",
       "      <th>tickle</th>\n",
       "      <td>0.601351</td>\n",
       "    </tr>\n",
       "    <tr>\n",
       "      <th>poke</th>\n",
       "      <td>0.588235</td>\n",
       "    </tr>\n",
       "    <tr>\n",
       "      <th>massage</th>\n",
       "      <td>0.573171</td>\n",
       "    </tr>\n",
       "    <tr>\n",
       "      <th>hit</th>\n",
       "      <td>0.572254</td>\n",
       "    </tr>\n",
       "    <tr>\n",
       "      <th>slap</th>\n",
       "      <td>0.449704</td>\n",
       "    </tr>\n",
       "    <tr>\n",
       "      <th>press</th>\n",
       "      <td>0.371429</td>\n",
       "    </tr>\n",
       "    <tr>\n",
       "      <th>pinch</th>\n",
       "      <td>0.302703</td>\n",
       "    </tr>\n",
       "    <tr>\n",
       "      <th>squeeze</th>\n",
       "      <td>0.222930</td>\n",
       "    </tr>\n",
       "    <tr>\n",
       "      <th>pat</th>\n",
       "      <td>0.205714</td>\n",
       "    </tr>\n",
       "    <tr>\n",
       "      <th>stroke</th>\n",
       "      <td>0.140127</td>\n",
       "    </tr>\n",
       "    <tr>\n",
       "      <th>rub</th>\n",
       "      <td>0.120482</td>\n",
       "    </tr>\n",
       "    <tr>\n",
       "      <th>scratch</th>\n",
       "      <td>0.110390</td>\n",
       "    </tr>\n",
       "    <tr>\n",
       "      <th>tap</th>\n",
       "      <td>0.098361</td>\n",
       "    </tr>\n",
       "  </tbody>\n",
       "</table>\n",
       "</div>"
      ],
      "text/plain": [
       "         correct(LOGREG)\n",
       "gesture                 \n",
       "grab            0.698795\n",
       "tickle          0.601351\n",
       "poke            0.588235\n",
       "massage         0.573171\n",
       "hit             0.572254\n",
       "slap            0.449704\n",
       "press           0.371429\n",
       "pinch           0.302703\n",
       "squeeze         0.222930\n",
       "pat             0.205714\n",
       "stroke          0.140127\n",
       "rub             0.120482\n",
       "scratch         0.110390\n",
       "tap             0.098361"
      ]
     },
     "execution_count": 37,
     "metadata": {},
     "output_type": "execute_result"
    }
   ],
   "source": [
    "data_predictions2 = data.loc[X_test.index]\n",
    "data_predictions2['y_predict'] = log_randomized_pipe.predict(X_test)\n",
    "data_predictions2['y_true'] = y_test.values\n",
    "data_predictions2['correct'] = np.where(data_predictions2['y_true'] == data_predictions2['y_predict'], 1, 0)\n",
    "\n",
    "gesture_correcter2 = data_predictions2.groupby(['gesture'])['correct'].mean().sort_values(ascending=False).to_frame()\\\n",
    "#     .join(data_predictions['gesture'].value_counts(normalize=True).to_frame(\"gesture_num_obs\"))\n",
    "gesture_correcter2.index = gesture_correcter2.index.map(dict_gesture)\n",
    "gesture_correcter2.rename(columns={\"correct\": \"correct(LOGREG)\"}, inplace=True)\n",
    "gesture_correcter2"
   ]
  },
  {
   "cell_type": "code",
   "execution_count": null,
   "metadata": {},
   "outputs": [],
   "source": [
    "print(f\"Accuracy of Logistic Regression is: {forest_randomized_pipe.score(X_test, y_test)}\")"
   ]
  },
  {
   "cell_type": "code",
   "execution_count": 41,
   "metadata": {},
   "outputs": [
    {
     "data": {
      "text/html": [
       "<div>\n",
       "<style scoped>\n",
       "    .dataframe tbody tr th:only-of-type {\n",
       "        vertical-align: middle;\n",
       "    }\n",
       "\n",
       "    .dataframe tbody tr th {\n",
       "        vertical-align: top;\n",
       "    }\n",
       "\n",
       "    .dataframe thead th {\n",
       "        text-align: right;\n",
       "    }\n",
       "</style>\n",
       "<table border=\"1\" class=\"dataframe\">\n",
       "  <thead>\n",
       "    <tr style=\"text-align: right;\">\n",
       "      <th></th>\n",
       "      <th>correct(Multilayer perceptron)</th>\n",
       "    </tr>\n",
       "    <tr>\n",
       "      <th>gesture</th>\n",
       "      <th></th>\n",
       "    </tr>\n",
       "  </thead>\n",
       "  <tbody>\n",
       "    <tr>\n",
       "      <th>grab</th>\n",
       "      <td>0.789157</td>\n",
       "    </tr>\n",
       "    <tr>\n",
       "      <th>poke</th>\n",
       "      <td>0.600000</td>\n",
       "    </tr>\n",
       "    <tr>\n",
       "      <th>massage</th>\n",
       "      <td>0.585366</td>\n",
       "    </tr>\n",
       "    <tr>\n",
       "      <th>tickle</th>\n",
       "      <td>0.547297</td>\n",
       "    </tr>\n",
       "    <tr>\n",
       "      <th>slap</th>\n",
       "      <td>0.497041</td>\n",
       "    </tr>\n",
       "    <tr>\n",
       "      <th>hit</th>\n",
       "      <td>0.473988</td>\n",
       "    </tr>\n",
       "    <tr>\n",
       "      <th>pinch</th>\n",
       "      <td>0.416216</td>\n",
       "    </tr>\n",
       "    <tr>\n",
       "      <th>stroke</th>\n",
       "      <td>0.369427</td>\n",
       "    </tr>\n",
       "    <tr>\n",
       "      <th>press</th>\n",
       "      <td>0.342857</td>\n",
       "    </tr>\n",
       "    <tr>\n",
       "      <th>pat</th>\n",
       "      <td>0.302857</td>\n",
       "    </tr>\n",
       "    <tr>\n",
       "      <th>squeeze</th>\n",
       "      <td>0.273885</td>\n",
       "    </tr>\n",
       "    <tr>\n",
       "      <th>rub</th>\n",
       "      <td>0.210843</td>\n",
       "    </tr>\n",
       "    <tr>\n",
       "      <th>scratch</th>\n",
       "      <td>0.188312</td>\n",
       "    </tr>\n",
       "    <tr>\n",
       "      <th>tap</th>\n",
       "      <td>0.147541</td>\n",
       "    </tr>\n",
       "  </tbody>\n",
       "</table>\n",
       "</div>"
      ],
      "text/plain": [
       "         correct(Multilayer perceptron)\n",
       "gesture                                \n",
       "grab                           0.789157\n",
       "poke                           0.600000\n",
       "massage                        0.585366\n",
       "tickle                         0.547297\n",
       "slap                           0.497041\n",
       "hit                            0.473988\n",
       "pinch                          0.416216\n",
       "stroke                         0.369427\n",
       "press                          0.342857\n",
       "pat                            0.302857\n",
       "squeeze                        0.273885\n",
       "rub                            0.210843\n",
       "scratch                        0.188312\n",
       "tap                            0.147541"
      ]
     },
     "execution_count": 41,
     "metadata": {},
     "output_type": "execute_result"
    }
   ],
   "source": [
    "data_predictions3 = data.loc[X_test.index]\n",
    "data_predictions3['y_predict'] = mlp_randomized_pipe.predict(X_test)\n",
    "data_predictions3['y_true'] = y_test.values\n",
    "data_predictions3['correct'] = np.where(data_predictions2['y_true'] == data_predictions3['y_predict'], 1, 0)\n",
    "\n",
    "gesture_correcter3 = data_predictions3.groupby(['gesture'])['correct'].mean().sort_values(ascending=False).to_frame()\\\n",
    "#     .join(data_predictions['gesture'].value_counts(normalize=True).to_frame(\"gesture_num_obs\"))\n",
    "gesture_correcter3.index = gesture_correcter3.index.map(dict_gesture)\n",
    "gesture_correcter3.rename(columns={\"correct\": \"correct(Multilayer perceptron)\"}, inplace=True)\n",
    "gesture_correcter3"
   ]
  },
  {
   "cell_type": "code",
   "execution_count": 50,
   "metadata": {},
   "outputs": [
    {
     "data": {
      "text/html": [
       "<div>\n",
       "<style scoped>\n",
       "    .dataframe tbody tr th:only-of-type {\n",
       "        vertical-align: middle;\n",
       "    }\n",
       "\n",
       "    .dataframe tbody tr th {\n",
       "        vertical-align: top;\n",
       "    }\n",
       "\n",
       "    .dataframe thead th {\n",
       "        text-align: right;\n",
       "    }\n",
       "</style>\n",
       "<table border=\"1\" class=\"dataframe\">\n",
       "  <thead>\n",
       "    <tr style=\"text-align: right;\">\n",
       "      <th></th>\n",
       "      <th>correct(RandomForestClassifier)</th>\n",
       "      <th>correct(SVM)</th>\n",
       "      <th>correct(LOGREG)</th>\n",
       "      <th>correct(Multilayer perceptron)</th>\n",
       "    </tr>\n",
       "    <tr>\n",
       "      <th>gesture</th>\n",
       "      <th></th>\n",
       "      <th></th>\n",
       "      <th></th>\n",
       "      <th></th>\n",
       "    </tr>\n",
       "  </thead>\n",
       "  <tbody>\n",
       "    <tr>\n",
       "      <th>grab</th>\n",
       "      <td>0.728916</td>\n",
       "      <td>0.734940</td>\n",
       "      <td>0.698795</td>\n",
       "      <td>0.789157</td>\n",
       "    </tr>\n",
       "    <tr>\n",
       "      <th>tickle</th>\n",
       "      <td>0.601351</td>\n",
       "      <td>0.594595</td>\n",
       "      <td>0.601351</td>\n",
       "      <td>0.547297</td>\n",
       "    </tr>\n",
       "    <tr>\n",
       "      <th>massage</th>\n",
       "      <td>0.554878</td>\n",
       "      <td>0.579268</td>\n",
       "      <td>0.573171</td>\n",
       "      <td>0.585366</td>\n",
       "    </tr>\n",
       "    <tr>\n",
       "      <th>hit</th>\n",
       "      <td>0.537572</td>\n",
       "      <td>0.531792</td>\n",
       "      <td>0.572254</td>\n",
       "      <td>0.473988</td>\n",
       "    </tr>\n",
       "    <tr>\n",
       "      <th>poke</th>\n",
       "      <td>0.529412</td>\n",
       "      <td>0.605882</td>\n",
       "      <td>0.588235</td>\n",
       "      <td>0.600000</td>\n",
       "    </tr>\n",
       "    <tr>\n",
       "      <th>slap</th>\n",
       "      <td>0.502959</td>\n",
       "      <td>0.550296</td>\n",
       "      <td>0.449704</td>\n",
       "      <td>0.497041</td>\n",
       "    </tr>\n",
       "    <tr>\n",
       "      <th>press</th>\n",
       "      <td>0.405714</td>\n",
       "      <td>0.382857</td>\n",
       "      <td>0.371429</td>\n",
       "      <td>0.342857</td>\n",
       "    </tr>\n",
       "    <tr>\n",
       "      <th>pat</th>\n",
       "      <td>0.354286</td>\n",
       "      <td>0.342857</td>\n",
       "      <td>0.205714</td>\n",
       "      <td>0.302857</td>\n",
       "    </tr>\n",
       "    <tr>\n",
       "      <th>pinch</th>\n",
       "      <td>0.345946</td>\n",
       "      <td>0.400000</td>\n",
       "      <td>0.302703</td>\n",
       "      <td>0.416216</td>\n",
       "    </tr>\n",
       "    <tr>\n",
       "      <th>stroke</th>\n",
       "      <td>0.343949</td>\n",
       "      <td>0.356688</td>\n",
       "      <td>0.140127</td>\n",
       "      <td>0.369427</td>\n",
       "    </tr>\n",
       "    <tr>\n",
       "      <th>squeeze</th>\n",
       "      <td>0.324841</td>\n",
       "      <td>0.350318</td>\n",
       "      <td>0.222930</td>\n",
       "      <td>0.273885</td>\n",
       "    </tr>\n",
       "    <tr>\n",
       "      <th>scratch</th>\n",
       "      <td>0.285714</td>\n",
       "      <td>0.266234</td>\n",
       "      <td>0.110390</td>\n",
       "      <td>0.188312</td>\n",
       "    </tr>\n",
       "    <tr>\n",
       "      <th>rub</th>\n",
       "      <td>0.246988</td>\n",
       "      <td>0.240964</td>\n",
       "      <td>0.120482</td>\n",
       "      <td>0.210843</td>\n",
       "    </tr>\n",
       "    <tr>\n",
       "      <th>tap</th>\n",
       "      <td>0.092896</td>\n",
       "      <td>0.103825</td>\n",
       "      <td>0.098361</td>\n",
       "      <td>0.147541</td>\n",
       "    </tr>\n",
       "  </tbody>\n",
       "</table>\n",
       "</div>"
      ],
      "text/plain": [
       "         correct(RandomForestClassifier)  correct(SVM)  correct(LOGREG)  \\\n",
       "gesture                                                                   \n",
       "grab                            0.728916      0.734940         0.698795   \n",
       "tickle                          0.601351      0.594595         0.601351   \n",
       "massage                         0.554878      0.579268         0.573171   \n",
       "hit                             0.537572      0.531792         0.572254   \n",
       "poke                            0.529412      0.605882         0.588235   \n",
       "slap                            0.502959      0.550296         0.449704   \n",
       "press                           0.405714      0.382857         0.371429   \n",
       "pat                             0.354286      0.342857         0.205714   \n",
       "pinch                           0.345946      0.400000         0.302703   \n",
       "stroke                          0.343949      0.356688         0.140127   \n",
       "squeeze                         0.324841      0.350318         0.222930   \n",
       "scratch                         0.285714      0.266234         0.110390   \n",
       "rub                             0.246988      0.240964         0.120482   \n",
       "tap                             0.092896      0.103825         0.098361   \n",
       "\n",
       "         correct(Multilayer perceptron)  \n",
       "gesture                                  \n",
       "grab                           0.789157  \n",
       "tickle                         0.547297  \n",
       "massage                        0.585366  \n",
       "hit                            0.473988  \n",
       "poke                           0.600000  \n",
       "slap                           0.497041  \n",
       "press                          0.342857  \n",
       "pat                            0.302857  \n",
       "pinch                          0.416216  \n",
       "stroke                         0.369427  \n",
       "squeeze                        0.273885  \n",
       "scratch                        0.188312  \n",
       "rub                            0.210843  \n",
       "tap                            0.147541  "
      ]
     },
     "execution_count": 50,
     "metadata": {},
     "output_type": "execute_result"
    }
   ],
   "source": [
    "from functools import reduce\n",
    "dfs = [gesture_correcter, gesture_correcter1, gesture_correcter2, gesture_correcter3]\n",
    "df_final = reduce(lambda left,right: pd.merge(left,right,on='gesture'), dfs)\n",
    "df_final\n",
    "\n"
   ]
  }
 ],
 "metadata": {
  "kernelspec": {
   "display_name": "Python 3",
   "language": "python",
   "name": "python3"
  },
  "language_info": {
   "codemirror_mode": {
    "name": "ipython",
    "version": 3
   },
   "file_extension": ".py",
   "mimetype": "text/x-python",
   "name": "python",
   "nbconvert_exporter": "python",
   "pygments_lexer": "ipython3",
   "version": "3.8.3"
  }
 },
 "nbformat": 4,
 "nbformat_minor": 4
}
